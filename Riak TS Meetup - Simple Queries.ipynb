{
 "cells": [
  {
   "cell_type": "code",
   "execution_count": null,
   "metadata": {
    "collapsed": true
   },
   "outputs": [],
   "source": [
    "# Import and call the Riak client to connect to your Riak TS node or cluster\n",
    "# See http://docs.basho.com/riak/ts/latest/developing/python/ for more information\n",
    "# on how to use the Riak client for Python\n",
    "from riak import RiakClient\n",
    "\n",
    "# Note: If you wish Riak TS to return date fields as Python dates\n",
    "# and not epoch you need to set the transport_options as shown below\n",
    "client = RiakClient(transport_options={'ts_convert_timestamp': True})\n",
    "\n",
    "from datetime import datetime\n",
    "import calendar\n",
    "\n",
    "table = \"WaterMeterData\""
   ]
  },
  {
   "cell_type": "code",
   "execution_count": null,
   "metadata": {
    "collapsed": false
   },
   "outputs": [],
   "source": [
    "# Select one row of data from our table using the primary key and .ts_get(table,key)\n",
    "key = [datetime(2016, 7, 6, 12, 0), 'CUSTOMER-0001', 'METER-0001']\n",
    "data_set = client.ts_get(table, key)\n",
    "print(data_set.rows[0])"
   ]
  },
  {
   "cell_type": "code",
   "execution_count": null,
   "metadata": {
    "collapsed": false
   },
   "outputs": [],
   "source": [
    "# Select a range of rows from our table by data (between 6/1/2016 and 7/1/2016)\n",
    "# We have to convert our dates to Unix Epoch to perform a SQL based query\n",
    "# See also: http://docs.basho.com/riak/ts/latest/using/querying/ \n",
    "start_date = calendar.timegm(datetime.timetuple(datetime(2016, 6, 1, 0, 0))) * 1000\n",
    "end_date = calendar.timegm(datetime.timetuple(datetime(2016, 7, 1, 1, 0))) * 1000\n",
    "\n",
    "query = \"\"\"\\\n",
    "SELECT * FROM WaterMeterData \n",
    "WHERE time_stamp >= {} AND time_stamp < {}\n",
    "\"\"\".format(start_date, end_date)\n",
    "\n",
    "print query\n",
    "\n",
    "data_set = client.ts_query(table, query)\n",
    "rowcount = len(data_set.rows)\n",
    "\n",
    "for row in data_set.rows:\n",
    "    print(row)\n",
    "print(\"Total Rows: {}\".format(rowcount))"
   ]
  },
  {
   "cell_type": "code",
   "execution_count": null,
   "metadata": {
    "collapsed": false
   },
   "outputs": [],
   "source": [
    "# Modify the above query to filter on a field in addition to the primary key fields\n",
    "query = \"\"\"\\\n",
    "SELECT * FROM WaterMeterData\n",
    "WHERE time_stamp >= {} AND time_stamp < {} AND\n",
    "    fault_condition = True\n",
    "\"\"\".format(start_date, end_date)\n",
    "\n",
    "data_set = client.ts_query(table, query)\n",
    "rowcount = len(data_set.rows)\n",
    "\n",
    "for row in data_set.rows:\n",
    "    print(row)\n",
    "print(\"Total Rows: {}\".format(rowcount))"
   ]
  },
  {
   "cell_type": "code",
   "execution_count": null,
   "metadata": {
    "collapsed": false
   },
   "outputs": [],
   "source": [
    "# The following query demonstrates basic Riak TS aggregate and arithmetic functions\n",
    "# See: http://docs.basho.com/riak/ts/latest/using/aggregate-functions/\n",
    "# and: http://docs.basho.com/riak/ts/latest/using/arithmetic-operations/\n",
    "query = \"\"\"\\\n",
    "SELECT\n",
    "    max(total_gallons) - min(total_gallons), avg(water_pressure), avg(gallons_per_hour)\n",
    "FROM WaterMeterData\n",
    "WHERE time_stamp >= {} AND time_stamp < {} AND\n",
    "    meter_id = 'METER-0001'\n",
    "\"\"\".format(start_date, end_date)\n",
    "\n",
    "data_set = client.ts_query(table, query)\n",
    "print \"Total Gallons: \" + str(data_set.rows[0][0])\n",
    "print \"Average Pressure: \" + str(data_set.rows[0][1])\n",
    "print \"Avg. Gallons/Hour: \" + str(data_set.rows[0][2])"
   ]
  },
  {
   "cell_type": "code",
   "execution_count": null,
   "metadata": {
    "collapsed": true
   },
   "outputs": [],
   "source": []
  }
 ],
 "metadata": {
  "kernelspec": {
   "display_name": "Python 2",
   "language": "python",
   "name": "python2"
  },
  "language_info": {
   "codemirror_mode": {
    "name": "ipython",
    "version": 2
   },
   "file_extension": ".py",
   "mimetype": "text/x-python",
   "name": "python",
   "nbconvert_exporter": "python",
   "pygments_lexer": "ipython2",
   "version": "2.7.11"
  }
 },
 "nbformat": 4,
 "nbformat_minor": 0
}
