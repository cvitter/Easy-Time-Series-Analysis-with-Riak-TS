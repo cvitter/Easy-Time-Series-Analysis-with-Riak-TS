{
 "cells": [
  {
   "cell_type": "code",
   "execution_count": null,
   "metadata": {
    "collapsed": false
   },
   "outputs": [],
   "source": [
    "# Import and call the Riak client to connect to your Riak TS node or cluster\n",
    "# See http://docs.basho.com/riak/ts/latest/developing/python/ for more information\n",
    "# on how to use the Riak client for Python\n",
    "from riak import RiakClient\n",
    "client = RiakClient()\n",
    "\n",
    "table = \"WaterMeterData\""
   ]
  },
  {
   "cell_type": "code",
   "execution_count": null,
   "metadata": {
    "collapsed": false
   },
   "outputs": [],
   "source": [
    "# Create the DDL used to create the new table and execute with .ts_query()\n",
    "# See http://docs.basho.com/riak/ts/latest/using/planning/ for more information on\n",
    "# creating Riak TS tables (supported data types, primary keys, etc.)\n",
    "query = \"\"\"\\\n",
    "CREATE TABLE WaterMeterData (\n",
    "    customer_id       varchar   not null,\n",
    "    meter_id          varchar   not null,\n",
    "    time_stamp        timestamp not null,\n",
    "    water_pressure    double    not null,\n",
    "    gallons_per_hour  double    not null,\n",
    "    total_gallons     double    not null,\n",
    "    fault_condition   boolean   not null,\n",
    "    fault_message     varchar,   \n",
    "    PRIMARY KEY(\n",
    "        (quantum(time_stamp, 80, 'd')),\n",
    "         time_stamp, customer_id, meter_id \n",
    "    )\n",
    ")\n",
    "WITH (\n",
    "    n_val=1\n",
    ")\n",
    "\"\"\"\n",
    "\n",
    "try:\n",
    "    client.ts_query(table, query)\n",
    "    print(\"Table '{}' created successfully\".format(table))\n",
    "except Exception as e:\n",
    "    print(e)"
   ]
  },
  {
   "cell_type": "code",
   "execution_count": null,
   "metadata": {
    "collapsed": false
   },
   "outputs": [],
   "source": [
    "# Retrieve and output the newly created table's schema\n",
    "description = client.table(table).describe()\n",
    "for column_desc in description.rows:\n",
    "    print(column_desc)"
   ]
  },
  {
   "cell_type": "code",
   "execution_count": null,
   "metadata": {
    "collapsed": true
   },
   "outputs": [],
   "source": []
  }
 ],
 "metadata": {
  "kernelspec": {
   "display_name": "Python 2",
   "language": "python",
   "name": "python2"
  },
  "language_info": {
   "codemirror_mode": {
    "name": "ipython",
    "version": 2
   },
   "file_extension": ".py",
   "mimetype": "text/x-python",
   "name": "python",
   "nbconvert_exporter": "python",
   "pygments_lexer": "ipython2",
   "version": "2.7.11"
  }
 },
 "nbformat": 4,
 "nbformat_minor": 0
}
