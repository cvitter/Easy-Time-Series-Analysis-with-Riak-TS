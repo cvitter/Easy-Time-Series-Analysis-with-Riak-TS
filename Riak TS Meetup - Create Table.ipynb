{
 "cells": [
  {
   "cell_type": "code",
   "execution_count": 2,
   "metadata": {
    "collapsed": false
   },
   "outputs": [
    {
     "name": "stdout",
     "output_type": "stream",
     "text": [
      "'Failed to create table WaterMeterData: already_active'\n"
     ]
    }
   ],
   "source": [
    "from riak import RiakClient\n",
    "client = RiakClient()\n",
    "\n",
    "table = \"WaterMeterData\"\n",
    "\n",
    "query = \"\"\"\\\n",
    "CREATE TABLE WaterMeterData (\n",
    "    customer_id       varchar   not null,\n",
    "    meter_id          varchar   not null,\n",
    "    time_stamp        timestamp not null,\n",
    "    water_pressure    double    not null,\n",
    "    gallons_per_hour  double    not null,\n",
    "    total_gallons     double    not null,\n",
    "    fault_condition   boolean   not null,\n",
    "    fault_message     varchar,   \n",
    "    PRIMARY KEY(\n",
    "        (customer_id, meter_id, quantum(time_stamp, 30, 'd')),\n",
    "         customer_id, meter_id, time_stamp\n",
    "    )\n",
    ")\n",
    "\"\"\"\n",
    "\n",
    "try:\n",
    "    client.ts_query(table, query)\n",
    "    print(\"Table '{}' created successfully\".format(table))\n",
    "except Exception as e:\n",
    "    print(e)"
   ]
  },
  {
   "cell_type": "code",
   "execution_count": 6,
   "metadata": {
    "collapsed": false
   },
   "outputs": [
    {
     "name": "stdout",
     "output_type": "stream",
     "text": [
      "['customer_id', 'varchar', False, 1L, 1L]\n",
      "['meter_id', 'varchar', False, 2L, 2L]\n",
      "['time_stamp', 'timestamp', False, 3L, 3L]\n",
      "['water_pressure', 'double', False, None, None]\n",
      "['gallons_per_hour', 'double', False, None, None]\n",
      "['total_gallons', 'double', False, None, None]\n",
      "['fault_condition', 'boolean', False, None, None]\n",
      "['fault_message', 'varchar', True, None, None]\n"
     ]
    }
   ],
   "source": [
    "try:    \n",
    "    description = client.table(table).describe()\n",
    "    for column_desc in description.rows:\n",
    "        print(column_desc)\n",
    "except Exception as e:\n",
    "    print(e)"
   ]
  },
  {
   "cell_type": "code",
   "execution_count": null,
   "metadata": {
    "collapsed": true
   },
   "outputs": [],
   "source": []
  }
 ],
 "metadata": {
  "kernelspec": {
   "display_name": "Python 2",
   "language": "python",
   "name": "python2"
  },
  "language_info": {
   "codemirror_mode": {
    "name": "ipython",
    "version": 2
   },
   "file_extension": ".py",
   "mimetype": "text/x-python",
   "name": "python",
   "nbconvert_exporter": "python",
   "pygments_lexer": "ipython2",
   "version": "2.7.11"
  }
 },
 "nbformat": 4,
 "nbformat_minor": 0
}
