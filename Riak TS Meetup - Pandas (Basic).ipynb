{
 "cells": [
  {
   "cell_type": "code",
   "execution_count": 34,
   "metadata": {
    "collapsed": true
   },
   "outputs": [],
   "source": [
    "from datetime import datetime\n",
    "import calendar\n",
    "import pandas as pd\n",
    "import matplotlib.pyplot as plt\n",
    "from riak import RiakClient\n",
    "\n",
    "client = RiakClient()\n",
    "\n",
    "table = \"WaterMeterMonthlyRollUp\""
   ]
  },
  {
   "cell_type": "code",
   "execution_count": 35,
   "metadata": {
    "collapsed": true
   },
   "outputs": [],
   "source": [
    "def convert_to_epoch ( date_to_convert ):\n",
    "    return calendar.timegm(datetime.timetuple( date_to_convert )) * 1000"
   ]
  },
  {
   "cell_type": "code",
   "execution_count": 36,
   "metadata": {
    "collapsed": true
   },
   "outputs": [],
   "source": [
    "def ts_obj_to_list_of_lists (ts_obj):\n",
    "    list_to_return = []\n",
    "    for row in ts_obj.rows:\n",
    "        list = []\n",
    "        for i in range(len(row)):\n",
    "            list.append(row[i])\n",
    "        list_to_return.append(list)\n",
    "    return list_to_return"
   ]
  },
  {
   "cell_type": "code",
   "execution_count": 37,
   "metadata": {
    "collapsed": false
   },
   "outputs": [
    {
     "name": "stdout",
     "output_type": "stream",
     "text": [
      "['CUSTOMER-0001', 'METER-0001', datetime.datetime(2016, 2, 1, 0, 0), 2L, 2016L, 3756.0, 225.35999999999999]\n",
      "['CUSTOMER-0001', 'METER-0001', datetime.datetime(2016, 3, 1, 0, 0), 3L, 2016L, 3552.5, 213.15]\n",
      "['CUSTOMER-0001', 'METER-0001', datetime.datetime(2016, 4, 1, 0, 0), 4L, 2016L, 3798.5, 227.91]\n",
      "['CUSTOMER-0001', 'METER-0001', datetime.datetime(2016, 5, 1, 0, 0), 5L, 2016L, 3657.0, 219.42]\n",
      "['CUSTOMER-0001', 'METER-0001', datetime.datetime(2016, 6, 1, 0, 0), 6L, 2016L, 3758.5, 225.51]\n",
      "['CUSTOMER-0001', 'METER-0001', datetime.datetime(2016, 7, 1, 0, 0), 7L, 2016L, 4995.5, 299.72999999999996]\n",
      "['CUSTOMER-0001', 'METER-0001', datetime.datetime(2016, 8, 1, 0, 0), 8L, 2016L, 5762.5, 345.75]\n",
      "['CUSTOMER-0001', 'METER-0001', datetime.datetime(2016, 9, 1, 0, 0), 9L, 2016L, 6128.5, 367.71]\n",
      "['CUSTOMER-0001', 'METER-0001', datetime.datetime(2016, 10, 1, 0, 0), 10L, 2016L, 3675.5, 220.53]\n",
      "['CUSTOMER-0001', 'METER-0001', datetime.datetime(2016, 11, 1, 0, 0), 11L, 2016L, 3780.0, 226.79999999999998]\n",
      "['CUSTOMER-0001', 'METER-0001', datetime.datetime(2016, 12, 1, 0, 0), 12L, 2016L, 3634.0, 218.04]\n",
      "['CUSTOMER-0001', 'METER-0001', datetime.datetime(2017, 1, 1, 0, 0), 1L, 2017L, 3798.5, 227.91]\n"
     ]
    }
   ],
   "source": [
    "start_date = datetime(2016, 1, 1, 0, 00)\n",
    "end_date = datetime(2017, 2, 1, 0, 00)\n",
    "\n",
    "query = \"\"\"\\\n",
    "    SELECT *\n",
    "    FROM WaterMeterMonthlyRollUp\n",
    "    WHERE reading_date >= {} AND reading_date < {} AND\n",
    "        customer_id = 'CUSTOMER-0001' AND meter_id = 'METER-0001'\n",
    "\"\"\".format( convert_to_epoch( start_date ), convert_to_epoch( end_date ) )\n",
    "\n",
    "data_set = client.ts_query(table, query)\n",
    "\n",
    "for row in data_set.rows:\n",
    "    print row"
   ]
  },
  {
   "cell_type": "code",
   "execution_count": 38,
   "metadata": {
    "collapsed": false
   },
   "outputs": [],
   "source": [
    "boring_list = ts_obj_to_list_of_lists( data_set )\n",
    "df = pd.DataFrame( boring_list )\n",
    "df.columns = ['Customer','Meter','Date','Month','Year', 'Gallons', 'Bill']\n",
    "df.set_index('Date', False, False, True, True)"
   ]
  },
  {
   "cell_type": "code",
   "execution_count": 44,
   "metadata": {
    "collapsed": false
   },
   "outputs": [
    {
     "name": "stdout",
     "output_type": "stream",
     "text": [
      "                 Customer       Meter       Date  Month  Year  Gallons    Bill\n",
      "Date                                                                          \n",
      "2016-02-01  CUSTOMER-0001  METER-0001 2016-02-01      2  2016   3756.0  225.36\n",
      "2016-03-01  CUSTOMER-0001  METER-0001 2016-03-01      3  2016   3552.5  213.15\n",
      "2016-04-01  CUSTOMER-0001  METER-0001 2016-04-01      4  2016   3798.5  227.91\n",
      "2016-05-01  CUSTOMER-0001  METER-0001 2016-05-01      5  2016   3657.0  219.42\n",
      "2016-06-01  CUSTOMER-0001  METER-0001 2016-06-01      6  2016   3758.5  225.51\n",
      "2016-07-01  CUSTOMER-0001  METER-0001 2016-07-01      7  2016   4995.5  299.73\n",
      "2016-08-01  CUSTOMER-0001  METER-0001 2016-08-01      8  2016   5762.5  345.75\n",
      "2016-09-01  CUSTOMER-0001  METER-0001 2016-09-01      9  2016   6128.5  367.71\n",
      "2016-10-01  CUSTOMER-0001  METER-0001 2016-10-01     10  2016   3675.5  220.53\n",
      "2016-11-01  CUSTOMER-0001  METER-0001 2016-11-01     11  2016   3780.0  226.80\n",
      "2016-12-01  CUSTOMER-0001  METER-0001 2016-12-01     12  2016   3634.0  218.04\n",
      "2017-01-01  CUSTOMER-0001  METER-0001 2017-01-01      1  2017   3798.5  227.91\n",
      "\n",
      "\n",
      "           Month         Year      Gallons        Bill\n",
      "count  12.000000    12.000000    12.000000   12.000000\n",
      "mean    6.500000  2016.083333  4191.416667  251.485000\n",
      "std     3.605551     0.288675   904.176115   54.250567\n",
      "min     1.000000  2016.000000  3552.500000  213.150000\n",
      "25%     3.750000  2016.000000  3670.875000  220.252500\n",
      "50%     6.500000  2016.000000  3769.250000  226.155000\n",
      "75%     9.250000  2016.000000  4097.750000  245.865000\n",
      "max    12.000000  2017.000000  6128.500000  367.710000\n"
     ]
    }
   ],
   "source": [
    "print df\n",
    "print '\\n'\n",
    "print df.describe()"
   ]
  },
  {
   "cell_type": "code",
   "execution_count": 40,
   "metadata": {
    "collapsed": false
   },
   "outputs": [
    {
     "name": "stdout",
     "output_type": "stream",
     "text": [
      "                 Date  Gallons\n",
      "Date                          \n",
      "2016-02-01 2016-02-01   3756.0\n",
      "2016-03-01 2016-03-01   3552.5\n",
      "2016-04-01 2016-04-01   3798.5\n",
      "2016-05-01 2016-05-01   3657.0\n",
      "2016-06-01 2016-06-01   3758.5\n",
      "2016-07-01 2016-07-01   4995.5\n",
      "2016-08-01 2016-08-01   5762.5\n",
      "2016-09-01 2016-09-01   6128.5\n",
      "2016-10-01 2016-10-01   3675.5\n",
      "2016-11-01 2016-11-01   3780.0\n",
      "2016-12-01 2016-12-01   3634.0\n",
      "2017-01-01 2017-01-01   3798.5\n"
     ]
    }
   ],
   "source": [
    "gallons_only = []\n",
    "for i in range( len( boring_list ) ):\n",
    "    new_row = [ boring_list[i][2], boring_list[i][5] ]\n",
    "    gallons_only.append( new_row )\n",
    "\n",
    "df2 = pd.DataFrame( gallons_only )\n",
    "df2.columns = ['Date', 'Gallons']\n",
    "df2.set_index('Date', False, False, True, True)\n",
    "\n",
    "print df2"
   ]
  },
  {
   "cell_type": "code",
   "execution_count": 42,
   "metadata": {
    "collapsed": false
   },
   "outputs": [
    {
     "data": {
      "text/plain": [
       "<matplotlib.axes._subplots.AxesSubplot at 0x113690690>"
      ]
     },
     "execution_count": 42,
     "metadata": {},
     "output_type": "execute_result"
    }
   ],
   "source": [
    "df2.plot()"
   ]
  },
  {
   "cell_type": "code",
   "execution_count": null,
   "metadata": {
    "collapsed": true
   },
   "outputs": [],
   "source": []
  }
 ],
 "metadata": {
  "kernelspec": {
   "display_name": "Python 2",
   "language": "python",
   "name": "python2"
  },
  "language_info": {
   "codemirror_mode": {
    "name": "ipython",
    "version": 2
   },
   "file_extension": ".py",
   "mimetype": "text/x-python",
   "name": "python",
   "nbconvert_exporter": "python",
   "pygments_lexer": "ipython2",
   "version": "2.7.11"
  }
 },
 "nbformat": 4,
 "nbformat_minor": 0
}
