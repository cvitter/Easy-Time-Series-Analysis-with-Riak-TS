{
 "cells": [
  {
   "cell_type": "code",
   "execution_count": 22,
   "metadata": {
    "collapsed": true
   },
   "outputs": [],
   "source": [
    "from datetime import datetime\n",
    "import calendar\n",
    "import pandas as pd\n",
    "import matplotlib.pyplot as plt\n",
    "\n",
    "# Set matplotlib to run inline so we can view visualization\n",
    "%matplotlib inline\n",
    "\n",
    "# Import and call the Riak client to connect to your Riak TS node or cluster\n",
    "# See http://docs.basho.com/riak/ts/latest/developing/python/ for more information\n",
    "# on how to use the Riak client for Python\n",
    "from riak import RiakClient\n",
    "# Note: If you wish Riak TS to return date fields as Python dates\n",
    "# and not epoch you need to set the transport_options as shown below\n",
    "client = RiakClient(transport_options={'ts_convert_timestamp': True})\n",
    "\n",
    "table = \"WaterMeterMonthlyRollUp\""
   ]
  },
  {
   "cell_type": "code",
   "execution_count": 23,
   "metadata": {
    "collapsed": true
   },
   "outputs": [],
   "source": [
    "# Function to convert Python date to Unix Epoch\n",
    "def convert_to_epoch ( date_to_convert ):\n",
    "    return calendar.timegm(datetime.timetuple( date_to_convert )) * 1000"
   ]
  },
  {
   "cell_type": "code",
   "execution_count": 24,
   "metadata": {
    "collapsed": true
   },
   "outputs": [],
   "source": [
    "# Function to convert TsObject to list of lists\n",
    "def ts_obj_to_list_of_lists (ts_obj):\n",
    "    list_to_return = []\n",
    "    for row in ts_obj.rows:\n",
    "        list = []\n",
    "        for i in range(len(row)):\n",
    "            list.append(row[i])\n",
    "        list_to_return.append(list)\n",
    "    return list_to_return"
   ]
  },
  {
   "cell_type": "code",
   "execution_count": 25,
   "metadata": {
    "collapsed": false
   },
   "outputs": [
    {
     "name": "stdout",
     "output_type": "stream",
     "text": [
      "['CUSTOMER-0001', 'METER-0001', datetime.datetime(2016, 2, 1, 0, 0), 2, 2016, 3756.0, 225.35999999999999]\n",
      "['CUSTOMER-0001', 'METER-0001', datetime.datetime(2016, 3, 1, 0, 0), 3, 2016, 3552.5, 213.15]\n",
      "['CUSTOMER-0001', 'METER-0001', datetime.datetime(2016, 4, 1, 0, 0), 4, 2016, 3798.5, 227.91]\n",
      "['CUSTOMER-0001', 'METER-0001', datetime.datetime(2016, 5, 1, 0, 0), 5, 2016, 3657.0, 219.42]\n",
      "['CUSTOMER-0001', 'METER-0001', datetime.datetime(2016, 6, 1, 0, 0), 6, 2016, 3758.5, 225.51]\n",
      "['CUSTOMER-0001', 'METER-0001', datetime.datetime(2016, 7, 1, 0, 0), 7, 2016, 4995.5, 299.72999999999996]\n",
      "['CUSTOMER-0001', 'METER-0001', datetime.datetime(2016, 8, 1, 0, 0), 8, 2016, 5762.5, 345.75]\n",
      "['CUSTOMER-0001', 'METER-0001', datetime.datetime(2016, 9, 1, 0, 0), 9, 2016, 3758.5, 225.51]\n",
      "['CUSTOMER-0001', 'METER-0001', datetime.datetime(2016, 10, 1, 0, 0), 10, 2016, 3675.5, 220.53]\n",
      "['CUSTOMER-0001', 'METER-0001', datetime.datetime(2016, 11, 1, 0, 0), 11, 2016, 3780.0, 226.79999999999998]\n",
      "['CUSTOMER-0001', 'METER-0001', datetime.datetime(2016, 12, 1, 0, 0), 12, 2016, 3634.0, 218.04]\n",
      "['CUSTOMER-0001', 'METER-0001', datetime.datetime(2017, 1, 1, 0, 0), 1, 2017, 3798.5, 227.91]\n"
     ]
    }
   ],
   "source": [
    "# Retrieve all rows in WaterMeterMonthlyRollUp\n",
    "start_date = datetime(2016, 1, 1, 0, 00)\n",
    "end_date = datetime(2017, 2, 1, 0, 00)\n",
    "\n",
    "query = \"\"\"\\\n",
    "    SELECT *\n",
    "    FROM WaterMeterMonthlyRollUp\n",
    "    WHERE reading_date >= {} AND reading_date < {} AND\n",
    "        customer_id = 'CUSTOMER-0001' AND meter_id = 'METER-0001'\n",
    "\"\"\".format( convert_to_epoch( start_date ), convert_to_epoch( end_date ) )\n",
    "\n",
    "data_set = client.ts_query(table, query)\n",
    "\n",
    "for row in data_set.rows:\n",
    "    print row"
   ]
  },
  {
   "cell_type": "code",
   "execution_count": 26,
   "metadata": {
    "collapsed": false
   },
   "outputs": [],
   "source": [
    "# Convert TsObject to list of lists and create Pandas DataFrame\n",
    "boring_list = ts_obj_to_list_of_lists( data_set )\n",
    "df = pd.DataFrame( boring_list )\n",
    "\n",
    "# Set the column names and the index to the Date field\n",
    "df.columns = ['Customer','Meter','Date','Month','Year', 'Gallons', 'Bill']\n",
    "df.set_index('Date', False, False, True, True)"
   ]
  },
  {
   "cell_type": "code",
   "execution_count": 27,
   "metadata": {
    "collapsed": false
   },
   "outputs": [
    {
     "name": "stdout",
     "output_type": "stream",
     "text": [
      "                 Customer       Meter       Date  Month  Year  Gallons    Bill\n",
      "Date                                                                          \n",
      "2016-02-01  CUSTOMER-0001  METER-0001 2016-02-01      2  2016   3756.0  225.36\n",
      "2016-03-01  CUSTOMER-0001  METER-0001 2016-03-01      3  2016   3552.5  213.15\n",
      "2016-04-01  CUSTOMER-0001  METER-0001 2016-04-01      4  2016   3798.5  227.91\n",
      "2016-05-01  CUSTOMER-0001  METER-0001 2016-05-01      5  2016   3657.0  219.42\n",
      "2016-06-01  CUSTOMER-0001  METER-0001 2016-06-01      6  2016   3758.5  225.51\n",
      "2016-07-01  CUSTOMER-0001  METER-0001 2016-07-01      7  2016   4995.5  299.73\n",
      "2016-08-01  CUSTOMER-0001  METER-0001 2016-08-01      8  2016   5762.5  345.75\n",
      "2016-09-01  CUSTOMER-0001  METER-0001 2016-09-01      9  2016   3758.5  225.51\n",
      "2016-10-01  CUSTOMER-0001  METER-0001 2016-10-01     10  2016   3675.5  220.53\n",
      "2016-11-01  CUSTOMER-0001  METER-0001 2016-11-01     11  2016   3780.0  226.80\n",
      "2016-12-01  CUSTOMER-0001  METER-0001 2016-12-01     12  2016   3634.0  218.04\n",
      "2017-01-01  CUSTOMER-0001  METER-0001 2017-01-01      1  2017   3798.5  227.91\n"
     ]
    }
   ],
   "source": [
    "print df"
   ]
  },
  {
   "cell_type": "code",
   "execution_count": 28,
   "metadata": {
    "collapsed": false
   },
   "outputs": [
    {
     "name": "stdout",
     "output_type": "stream",
     "text": [
      "           Month         Year      Gallons       Bill\n",
      "count  12.000000    12.000000    12.000000   12.00000\n",
      "mean    6.500000  2016.083333  3993.916667  239.63500\n",
      "std     3.605551     0.288675   671.492836   40.28957\n",
      "min     1.000000  2016.000000  3552.500000  213.15000\n",
      "25%     3.750000  2016.000000  3670.875000  220.25250\n",
      "50%     6.500000  2016.000000  3758.500000  225.51000\n",
      "75%     9.250000  2016.000000  3798.500000  227.91000\n",
      "max    12.000000  2017.000000  5762.500000  345.75000\n"
     ]
    }
   ],
   "source": [
    "print df.describe()"
   ]
  },
  {
   "cell_type": "code",
   "execution_count": 29,
   "metadata": {
    "collapsed": false
   },
   "outputs": [
    {
     "data": {
      "text/plain": [
       "<matplotlib.axes._subplots.AxesSubplot at 0x10cd88650>"
      ]
     },
     "execution_count": 29,
     "metadata": {},
     "output_type": "execute_result"
    },
    {
     "data": {
      "image/png": "[encoded data removed]",
      "text/plain": [
       "<matplotlib.figure.Figure at 0x10ce3fe90>"
      ]
     },
     "metadata": {},
     "output_type": "display_data"
    }
   ],
   "source": [
    "df.plot()"
   ]
  },
  {
   "cell_type": "code",
   "execution_count": null,
   "metadata": {
    "collapsed": true
   },
   "outputs": [],
   "source": []
  }
 ],
 "metadata": {
  "kernelspec": {
   "display_name": "Python 2",
   "language": "python",
   "name": "python2"
  },
  "language_info": {
   "codemirror_mode": {
    "name": "ipython",
    "version": 2
   },
   "file_extension": ".py",
   "mimetype": "text/x-python",
   "name": "python",
   "nbconvert_exporter": "python",
   "pygments_lexer": "ipython2",
   "version": "2.7.11"
  }
 },
 "nbformat": 4,
 "nbformat_minor": 0
}
