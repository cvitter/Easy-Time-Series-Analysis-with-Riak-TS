{
 "cells": [
  {
   "cell_type": "code",
   "execution_count": null,
   "metadata": {
    "collapsed": true
   },
   "outputs": [],
   "source": [
    "from datetime import datetime\n",
    "import calendar\n",
    "import pandas as pd\n",
    "import matplotlib.pyplot as plt\n",
    "\n",
    "# Set matplotlib to run inline so we can view visualization\n",
    "%matplotlib inline\n",
    "\n",
    "# Import and call the Riak client to connect to your Riak TS node or cluster\n",
    "# See http://docs.basho.com/riak/ts/latest/developing/python/ for more information\n",
    "# on how to use the Riak client for Python\n",
    "from riak import RiakClient\n",
    "# Note: If you wish Riak TS to return date fields as Python dates\n",
    "# and not epoch you need to set the transport_options as shown below\n",
    "client = RiakClient(transport_options={'ts_convert_timestamp': True})\n",
    "\n",
    "table = \"WaterMeterMonthlyRollUp\""
   ]
  },
  {
   "cell_type": "code",
   "execution_count": null,
   "metadata": {
    "collapsed": true
   },
   "outputs": [],
   "source": [
    "# Function to convert Python date to Unix Epoch\n",
    "def convert_to_epoch ( date_to_convert ):\n",
    "    return calendar.timegm(datetime.timetuple( date_to_convert )) * 1000"
   ]
  },
  {
   "cell_type": "code",
   "execution_count": null,
   "metadata": {
    "collapsed": true
   },
   "outputs": [],
   "source": [
    "# Function to convert TsObject to list of lists\n",
    "def ts_obj_to_list_of_lists (ts_obj):\n",
    "    list_to_return = []\n",
    "    for row in ts_obj.rows:\n",
    "        list = []\n",
    "        for i in range(len(row)):\n",
    "            list.append(row[i])\n",
    "        list_to_return.append(list)\n",
    "    return list_to_return"
   ]
  },
  {
   "cell_type": "code",
   "execution_count": null,
   "metadata": {
    "collapsed": false
   },
   "outputs": [],
   "source": [
    "# Retrieve all rows in WaterMeterMonthlyRollUp\n",
    "start_date = datetime(2016, 1, 1, 0, 00)\n",
    "end_date = datetime(2017, 2, 1, 0, 00)\n",
    "\n",
    "query = \"\"\"\\\n",
    "    SELECT *\n",
    "    FROM WaterMeterMonthlyRollUp\n",
    "    WHERE reading_date >= {} AND reading_date < {} AND\n",
    "        customer_id = 'CUSTOMER-0001' AND meter_id = 'METER-0001'\n",
    "\"\"\".format( convert_to_epoch( start_date ), convert_to_epoch( end_date ) )\n",
    "\n",
    "data_set = client.ts_query(table, query)\n",
    "\n",
    "for row in data_set.rows:\n",
    "    print row"
   ]
  },
  {
   "cell_type": "code",
   "execution_count": null,
   "metadata": {
    "collapsed": false
   },
   "outputs": [],
   "source": [
    "# Convert TsObject to list of lists and create Pandas DataFrame\n",
    "boring_list = ts_obj_to_list_of_lists( data_set )\n",
    "df = pd.DataFrame( boring_list )\n",
    "\n",
    "# Set the column names and the index to the Date field\n",
    "df.columns = ['Customer','Meter','Date','Month','Year', 'Gallons', 'Bill']\n",
    "df.set_index('Date', False, False, True, True)"
   ]
  },
  {
   "cell_type": "code",
   "execution_count": null,
   "metadata": {
    "collapsed": false
   },
   "outputs": [],
   "source": [
    "df"
   ]
  },
  {
   "cell_type": "code",
   "execution_count": null,
   "metadata": {
    "collapsed": false
   },
   "outputs": [],
   "source": [
    "df['Gallons']"
   ]
  },
  {
   "cell_type": "code",
   "execution_count": null,
   "metadata": {
    "collapsed": false
   },
   "outputs": [],
   "source": [
    "df['20160301':'20160601']"
   ]
  },
  {
   "cell_type": "code",
   "execution_count": null,
   "metadata": {
    "collapsed": false
   },
   "outputs": [],
   "source": [
    "df.index"
   ]
  },
  {
   "cell_type": "code",
   "execution_count": null,
   "metadata": {
    "collapsed": false
   },
   "outputs": [],
   "source": [
    "df.columns"
   ]
  },
  {
   "cell_type": "code",
   "execution_count": null,
   "metadata": {
    "collapsed": false
   },
   "outputs": [],
   "source": [
    "df.values"
   ]
  },
  {
   "cell_type": "code",
   "execution_count": null,
   "metadata": {
    "collapsed": false
   },
   "outputs": [],
   "source": [
    "df.info()"
   ]
  },
  {
   "cell_type": "code",
   "execution_count": null,
   "metadata": {
    "collapsed": false
   },
   "outputs": [],
   "source": [
    "df.memory_usage()"
   ]
  },
  {
   "cell_type": "code",
   "execution_count": null,
   "metadata": {
    "collapsed": false
   },
   "outputs": [],
   "source": [
    "print df.describe()"
   ]
  },
  {
   "cell_type": "code",
   "execution_count": null,
   "metadata": {
    "collapsed": false
   },
   "outputs": [],
   "source": [
    "df.count()"
   ]
  },
  {
   "cell_type": "code",
   "execution_count": null,
   "metadata": {
    "collapsed": false
   },
   "outputs": [],
   "source": [
    "df.min()"
   ]
  },
  {
   "cell_type": "code",
   "execution_count": null,
   "metadata": {
    "collapsed": false
   },
   "outputs": [],
   "source": [
    "df.max()"
   ]
  },
  {
   "cell_type": "code",
   "execution_count": null,
   "metadata": {
    "collapsed": false
   },
   "outputs": [],
   "source": [
    "df.median()"
   ]
  },
  {
   "cell_type": "code",
   "execution_count": null,
   "metadata": {
    "collapsed": false
   },
   "outputs": [],
   "source": [
    "df.sort_values(by='Bill', ascending=False)"
   ]
  },
  {
   "cell_type": "code",
   "execution_count": null,
   "metadata": {
    "collapsed": false
   },
   "outputs": [],
   "source": [
    "df.groupby('Gallons').sum()"
   ]
  },
  {
   "cell_type": "code",
   "execution_count": null,
   "metadata": {
    "collapsed": false
   },
   "outputs": [],
   "source": [
    "df.plot()"
   ]
  },
  {
   "cell_type": "code",
   "execution_count": null,
   "metadata": {
    "collapsed": true
   },
   "outputs": [],
   "source": []
  }
 ],
 "metadata": {
  "kernelspec": {
   "display_name": "Python 2",
   "language": "python",
   "name": "python2"
  },
  "language_info": {
   "codemirror_mode": {
    "name": "ipython",
    "version": 2
   },
   "file_extension": ".py",
   "mimetype": "text/x-python",
   "name": "python",
   "nbconvert_exporter": "python",
   "pygments_lexer": "ipython2",
   "version": "2.7.11"
  }
 },
 "nbformat": 4,
 "nbformat_minor": 0
}
