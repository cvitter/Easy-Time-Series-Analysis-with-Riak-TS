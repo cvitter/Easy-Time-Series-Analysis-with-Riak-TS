{
 "cells": [
  {
   "cell_type": "code",
   "execution_count": null,
   "metadata": {
    "collapsed": false
   },
   "outputs": [],
   "source": [
    "from datetime import datetime\n",
    "import calendar\n",
    "import pandas as pd\n",
    "\n",
    "# Import and call the Riak client to connect to your Riak TS node or cluster\n",
    "# See http://docs.basho.com/riak/ts/latest/developing/python/ for more information\n",
    "# on how to use the Riak client for Python\n",
    "from riak import RiakClient\n",
    "\n",
    "# Note: If you wish Riak TS to return date fields as Python dates\n",
    "# and not epoch you need to set the transport_options as shown below\n",
    "client = RiakClient(transport_options={'ts_convert_timestamp': True})\n",
    "\n",
    "table = \"WaterMeterMonthlyRollUp\"\n",
    "\n",
    "# Funtion to convert Python date to Unix Epoch\n",
    "def convert_to_epoch ( date_to_convert ):\n",
    "    return calendar.timegm(datetime.timetuple( date_to_convert )) * 1000\n",
    "\n",
    "# Function to convert TsObject to list of lists\n",
    "def ts_obj_to_list_of_lists (ts_obj):\n",
    "    list_to_return = []\n",
    "    for row in ts_obj.rows:\n",
    "        list = []\n",
    "        for i in range(len(row)):\n",
    "            list.append(row[i])\n",
    "        list_to_return.append(list)\n",
    "    return list_to_return"
   ]
  },
  {
   "cell_type": "code",
   "execution_count": null,
   "metadata": {
    "collapsed": false
   },
   "outputs": [],
   "source": [
    "start_date = datetime(2016, 1, 1, 0, 00)\n",
    "end_date = datetime(2017, 2, 1, 0, 00)\n",
    "\n",
    "query = \"\"\"\\\n",
    "    SELECT reading_date, total_gallons\n",
    "    FROM WaterMeterMonthlyRollUp\n",
    "    WHERE reading_date >= {} AND reading_date < {} AND\n",
    "        customer_id = 'CUSTOMER-0001' AND meter_id = 'METER-0001'\n",
    "\"\"\".format( convert_to_epoch( start_date ), convert_to_epoch( end_date ) )\n",
    "\n",
    "data_set = client.ts_query(table, query)\n",
    "\n",
    "# Convert TsObject to list of lists and create Pandas DataFrame\n",
    "boring_list = ts_obj_to_list_of_lists( data_set )\n",
    "df = pd.DataFrame( boring_list )\n",
    "\n",
    "# Set the column names and the index to the Date field\n",
    "df.columns = ['Date','Gallons']\n",
    "df.set_index('Date', False, False, True, True)\n",
    "\n",
    "print df\n",
    "print '\\n'\n",
    "print df.describe()"
   ]
  },
  {
   "cell_type": "code",
   "execution_count": null,
   "metadata": {
    "collapsed": false
   },
   "outputs": [],
   "source": [
    "# Import Matplotlib and set it to run inline with the notebook\n",
    "%matplotlib inline\n",
    "import matplotlib as plt\n",
    "\n",
    "# Create chart and adjust the size and labels\n",
    "chart = df.plot(figsize=(10,5))\n",
    "chart.set_ylabel('Gallons', fontsize=12)\n",
    "chart.set_xlabel('Billing Month', fontsize=12)"
   ]
  },
  {
   "cell_type": "code",
   "execution_count": null,
   "metadata": {
    "collapsed": false
   },
   "outputs": [],
   "source": [
    "# Change to a bar chart using kind='bar'\n",
    "chart = df.plot(figsize=(10,5), kind='bar')\n",
    "chart.set_ylabel('Gallons', fontsize=12)\n",
    "chart.set_xlabel('Billing Month', fontsize=12)"
   ]
  },
  {
   "cell_type": "code",
   "execution_count": null,
   "metadata": {
    "collapsed": true
   },
   "outputs": [],
   "source": []
  }
 ],
 "metadata": {
  "kernelspec": {
   "display_name": "Python 2",
   "language": "python",
   "name": "python2"
  },
  "language_info": {
   "codemirror_mode": {
    "name": "ipython",
    "version": 2
   },
   "file_extension": ".py",
   "mimetype": "text/x-python",
   "name": "python",
   "nbconvert_exporter": "python",
   "pygments_lexer": "ipython2",
   "version": "2.7.11"
  }
 },
 "nbformat": 4,
 "nbformat_minor": 0
}
