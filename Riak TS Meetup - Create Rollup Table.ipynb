{
 "cells": [
  {
   "cell_type": "code",
   "execution_count": 4,
   "metadata": {
    "collapsed": false
   },
   "outputs": [
    {
     "name": "stdout",
     "output_type": "stream",
     "text": [
      "'Failed to create table WaterMeterMonthlyRollUp: already_active'\n"
     ]
    }
   ],
   "source": [
    "from datetime import datetime, timedelta\n",
    "import calendar\n",
    "from riak import RiakClient\n",
    "client = RiakClient()\n",
    "\n",
    "read_table = \"WaterMeterData\"\n",
    "write_table = \"WaterMeterMonthlyRollUp\"\n",
    "\n",
    "query = \"\"\"\\\n",
    "CREATE TABLE WaterMeterMonthlyRollUp (\n",
    "    customer_id       varchar   not null,\n",
    "    meter_id          varchar   not null,\n",
    "    reading_date      timestamp not null,\n",
    "    billing_month     sint64    not null,\n",
    "    billing_year      sint64    not null,\n",
    "    total_gallons     double    not null,\n",
    "    amount_billed     double    not null,\n",
    "    PRIMARY KEY(\n",
    "        (customer_id, meter_id, quantum(reading_date, 3000, 'd')),\n",
    "         customer_id, meter_id, reading_date\n",
    "    )\n",
    ")\n",
    "\"\"\"\n",
    "\n",
    "try:\n",
    "    client.ts_query(write_table, query)\n",
    "    print(\"Table '{}' created successfully\".format(table))\n",
    "except Exception as e:\n",
    "    print(e)"
   ]
  },
  {
   "cell_type": "code",
   "execution_count": 5,
   "metadata": {
    "collapsed": false
   },
   "outputs": [
    {
     "name": "stdout",
     "output_type": "stream",
     "text": [
      "['customer_id', 'varchar', False, 1L, 1L]\n",
      "['meter_id', 'varchar', False, 2L, 2L]\n",
      "['reading_date', 'timestamp', False, 3L, 3L]\n",
      "['billing_month', 'sint64', False, None, None]\n",
      "['billing_year', 'sint64', False, None, None]\n",
      "['total_gallons', 'double', False, None, None]\n",
      "['amount_billed', 'double', False, None, None]\n"
     ]
    }
   ],
   "source": [
    "try:    \n",
    "    description = client.table(write_table).describe()\n",
    "    for column_desc in description.rows:\n",
    "        print(column_desc)\n",
    "except Exception as e:\n",
    "    print(e)"
   ]
  },
  {
   "cell_type": "code",
   "execution_count": 6,
   "metadata": {
    "collapsed": false
   },
   "outputs": [
    {
     "name": "stdout",
     "output_type": "stream",
     "text": [
      "['CUSTOMER-0001', 'METER-0001', datetime.datetime(2016, 2, 1, 0, 0), 2, 2016, 3756.0, 225.35999999999999]\n",
      "['CUSTOMER-0001', 'METER-0001', datetime.datetime(2016, 3, 1, 0, 0), 3, 2016, 3552.5, 213.15]\n",
      "['CUSTOMER-0001', 'METER-0001', datetime.datetime(2016, 4, 1, 0, 0), 4, 2016, 3798.5, 227.91]\n",
      "['CUSTOMER-0001', 'METER-0001', datetime.datetime(2016, 5, 1, 0, 0), 5, 2016, 3657.0, 219.42]\n",
      "['CUSTOMER-0001', 'METER-0001', datetime.datetime(2016, 6, 1, 0, 0), 6, 2016, 3758.5, 225.51]\n",
      "['CUSTOMER-0001', 'METER-0001', datetime.datetime(2016, 7, 1, 0, 0), 7, 2016, 4995.5, 299.72999999999996]\n",
      "['CUSTOMER-0001', 'METER-0001', datetime.datetime(2016, 8, 1, 0, 0), 8, 2016, 5762.5, 345.75]\n",
      "['CUSTOMER-0001', 'METER-0001', datetime.datetime(2016, 9, 1, 0, 0), 9, 2016, 6128.5, 367.71]\n",
      "['CUSTOMER-0001', 'METER-0001', datetime.datetime(2016, 10, 1, 0, 0), 10, 2016, 3675.5, 220.53]\n",
      "['CUSTOMER-0001', 'METER-0001', datetime.datetime(2016, 11, 1, 0, 0), 11, 2016, 3780.0, 226.79999999999998]\n",
      "['CUSTOMER-0001', 'METER-0001', datetime.datetime(2016, 12, 1, 0, 0), 12, 2016, 3634.0, 218.04]\n",
      "['CUSTOMER-0001', 'METER-0001', datetime.datetime(2017, 1, 1, 0, 0), 1, 2017, 3798.5, 227.91]\n",
      "Records written: True\n"
     ]
    }
   ],
   "source": [
    "def convert_to_epoch ( date_to_convert ):\n",
    "    return calendar.timegm(datetime.timetuple( date_to_convert )) * 1000\n",
    "\n",
    "start_month = 1\n",
    "end_month = 2\n",
    "end_year = 2016\n",
    "\n",
    "data_set = []\n",
    "\n",
    "while start_month < 13:\n",
    "    \n",
    "    start_date = datetime(2016, start_month, 1, 0, 00)\n",
    "    end_date = datetime(end_year, end_month, 1, 0, 00)\n",
    "    \n",
    "    query = \"\"\"\\\n",
    "        SELECT\n",
    "            max(total_gallons) - min(total_gallons)\n",
    "        FROM WaterMeterData\n",
    "        WHERE time_stamp >= {} AND time_stamp < {} AND\n",
    "            customer_id = 'CUSTOMER-0001' AND meter_id = 'METER-0001'\n",
    "    \"\"\".format( convert_to_epoch( start_date ), convert_to_epoch( end_date ) )\n",
    "    \n",
    "    result_set = client.ts_query(read_table, query)\n",
    "    \n",
    "    new_row = ['CUSTOMER-0001','METER-0001', end_date, end_date.month, end_date.year, \n",
    "               result_set.rows[0][0], result_set.rows[0][0] * 0.06]\n",
    "    print new_row\n",
    "    data_set.append(new_row)\n",
    "    \n",
    "    start_month += 1\n",
    "    if end_month <> 12:\n",
    "        end_month += 1\n",
    "    else:\n",
    "        end_month = 1\n",
    "        end_year = 2017\n",
    "\n",
    "result_message = \"\"\n",
    "try:   \n",
    "    table_object = client.table(write_table).new(data_set)\n",
    "    result = table_object.store()\n",
    "    result_message = \"Records written: {}\".format(result)\n",
    "except Exception as e:\n",
    "    result_message = \"Error: {}\".format(e)\n",
    "print result_message"
   ]
  },
  {
   "cell_type": "code",
   "execution_count": 7,
   "metadata": {
    "collapsed": false
   },
   "outputs": [
    {
     "name": "stdout",
     "output_type": "stream",
     "text": [
      "['CUSTOMER-0001', 'METER-0001', datetime.datetime(2016, 2, 1, 0, 0), 2L, 2016L, 3756.0, 225.35999999999999]\n",
      "['CUSTOMER-0001', 'METER-0001', datetime.datetime(2016, 3, 1, 0, 0), 3L, 2016L, 3552.5, 213.15]\n",
      "['CUSTOMER-0001', 'METER-0001', datetime.datetime(2016, 4, 1, 0, 0), 4L, 2016L, 3798.5, 227.91]\n",
      "['CUSTOMER-0001', 'METER-0001', datetime.datetime(2016, 5, 1, 0, 0), 5L, 2016L, 3657.0, 219.42]\n",
      "['CUSTOMER-0001', 'METER-0001', datetime.datetime(2016, 6, 1, 0, 0), 6L, 2016L, 3758.5, 225.51]\n",
      "['CUSTOMER-0001', 'METER-0001', datetime.datetime(2016, 7, 1, 0, 0), 7L, 2016L, 4995.5, 299.72999999999996]\n",
      "['CUSTOMER-0001', 'METER-0001', datetime.datetime(2016, 8, 1, 0, 0), 8L, 2016L, 5762.5, 345.75]\n",
      "['CUSTOMER-0001', 'METER-0001', datetime.datetime(2016, 9, 1, 0, 0), 9L, 2016L, 6128.5, 367.71]\n",
      "['CUSTOMER-0001', 'METER-0001', datetime.datetime(2016, 10, 1, 0, 0), 10L, 2016L, 3675.5, 220.53]\n",
      "['CUSTOMER-0001', 'METER-0001', datetime.datetime(2016, 11, 1, 0, 0), 11L, 2016L, 3780.0, 226.79999999999998]\n",
      "['CUSTOMER-0001', 'METER-0001', datetime.datetime(2016, 12, 1, 0, 0), 12L, 2016L, 3634.0, 218.04]\n",
      "['CUSTOMER-0001', 'METER-0001', datetime.datetime(2017, 1, 1, 0, 0), 1L, 2017L, 3798.5, 227.91]\n"
     ]
    }
   ],
   "source": [
    "start_date = datetime(2016, 1, 1, 0, 00)\n",
    "end_date = datetime(2017, 2, 1, 0, 00)\n",
    "\n",
    "query = \"\"\"\\\n",
    "    SELECT *\n",
    "    FROM WaterMeterMonthlyRollUp\n",
    "    WHERE reading_date >= {} AND reading_date < {} AND\n",
    "        customer_id = 'CUSTOMER-0001' AND meter_id = 'METER-0001'\n",
    "\"\"\".format( convert_to_epoch( start_date ), convert_to_epoch( end_date ) )\n",
    "\n",
    "data_set = client.ts_query(write_table, query)\n",
    "for row in data_set.rows:\n",
    "    print(row)"
   ]
  },
  {
   "cell_type": "code",
   "execution_count": null,
   "metadata": {
    "collapsed": true
   },
   "outputs": [],
   "source": []
  }
 ],
 "metadata": {
  "kernelspec": {
   "display_name": "Python 2",
   "language": "python",
   "name": "python2"
  },
  "language_info": {
   "codemirror_mode": {
    "name": "ipython",
    "version": 2
   },
   "file_extension": ".py",
   "mimetype": "text/x-python",
   "name": "python",
   "nbconvert_exporter": "python",
   "pygments_lexer": "ipython2",
   "version": "2.7.11"
  }
 },
 "nbformat": 4,
 "nbformat_minor": 0
}
