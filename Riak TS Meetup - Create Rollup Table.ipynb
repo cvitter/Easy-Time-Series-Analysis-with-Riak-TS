{
 "cells": [
  {
   "cell_type": "code",
   "execution_count": null,
   "metadata": {
    "collapsed": false
   },
   "outputs": [],
   "source": [
    "# Import and call the Riak client to connect to your Riak TS node or cluster\n",
    "# See http://docs.basho.com/riak/ts/latest/developing/python/ for more information\n",
    "# on how to use the Riak client for Python\n",
    "from riak import RiakClient\n",
    "\n",
    "# Note: If you wish Riak TS to return date fields as Python dates\n",
    "# and not epoch you need to set the transport_options as shown below\n",
    "client = RiakClient(transport_options={'ts_convert_timestamp': True})\n",
    "\n",
    "from datetime import datetime, timedelta\n",
    "import calendar\n",
    "\n",
    "read_table = \"WaterMeterData\"\n",
    "write_table = \"WaterMeterMonthlyRollUp\"\n",
    "\n",
    "# SQL DDL to create new table to store our roll up values\n",
    "query = \"\"\"\\\n",
    "CREATE TABLE WaterMeterMonthlyRollUp (\n",
    "    customer_id       varchar   not null,\n",
    "    meter_id          varchar   not null,\n",
    "    reading_date      timestamp not null,\n",
    "    billing_month     sint64    not null,\n",
    "    billing_year      sint64    not null,\n",
    "    total_gallons     double    not null,\n",
    "    amount_billed     double    not null,\n",
    "    PRIMARY KEY(\n",
    "        (quantum(reading_date, 3000, 'd')),\n",
    "         reading_date, customer_id, meter_id\n",
    "    )\n",
    ")\n",
    "\"\"\"\n",
    "\n",
    "try:\n",
    "    client.ts_query(write_table, query)\n",
    "    print(\"Table '{}' created successfully\".format(write_table))\n",
    "except Exception as e:\n",
    "    print(e)"
   ]
  },
  {
   "cell_type": "code",
   "execution_count": null,
   "metadata": {
    "collapsed": false
   },
   "outputs": [],
   "source": [
    "# Retrieve and output the newly created table's schema\n",
    "description = client.table(write_table).describe()\n",
    "for column_desc in description.rows:\n",
    "    print(column_desc)"
   ]
  },
  {
   "cell_type": "code",
   "execution_count": null,
   "metadata": {
    "collapsed": false
   },
   "outputs": [],
   "source": [
    "# Write roll up records to our newly created table\n",
    "\n",
    "# Funtion to convert Python date to Unix Epoch\n",
    "def convert_to_epoch ( date_to_convert ):\n",
    "    return calendar.timegm(datetime.timetuple( date_to_convert )) * 1000\n",
    "\n",
    "start_month = 1\n",
    "end_month = 2\n",
    "end_year = 2016\n",
    "\n",
    "data_set = []\n",
    "\n",
    "# Loop from 0 to 12 - January to December\n",
    "while start_month < 13:\n",
    "    start_date = datetime(2016, start_month, 1, 0, 00)\n",
    "    end_date = datetime(end_year, end_month, 1, 0, 00)\n",
    "    \n",
    "    # SQL to calculate gallons of water consumed for the month\n",
    "    # max(total_gallons) - min(total_gallons) = total gallons used\n",
    "    query = \"\"\"\\\n",
    "        SELECT\n",
    "            max(total_gallons) - min(total_gallons)\n",
    "        FROM WaterMeterData\n",
    "        WHERE time_stamp >= {} AND time_stamp < {} AND\n",
    "            customer_id = 'CUSTOMER-0001' AND meter_id = 'METER-0001'\n",
    "    \"\"\".format( convert_to_epoch( start_date ), convert_to_epoch( end_date ) )\n",
    "    \n",
    "    result_set = client.ts_query(read_table, query)\n",
    "    \n",
    "    # Create new row for the roll up table and append to data_set\n",
    "    new_row = ['CUSTOMER-0001','METER-0001', end_date, end_date.month, end_date.year, \n",
    "               result_set.rows[0][0], result_set.rows[0][0] * 0.06]\n",
    "    print new_row\n",
    "    data_set.append(new_row)\n",
    "    \n",
    "    start_month += 1\n",
    "    if end_month <> 12:\n",
    "        end_month += 1\n",
    "    else:\n",
    "        end_month = 1\n",
    "        end_year = 2017\n",
    "\n",
    "# Store the data_set list of lists to WaterMeterMonthlyRollUp\n",
    "result_message = \"\"\n",
    "try:   \n",
    "    table_object = client.table(write_table).new(data_set)\n",
    "    result = table_object.store()\n",
    "    result_message = \"Records written: {}\".format(result)\n",
    "except Exception as e:\n",
    "    result_message = \"Error: {}\".format(e)\n",
    "print result_message"
   ]
  },
  {
   "cell_type": "code",
   "execution_count": null,
   "metadata": {
    "collapsed": false
   },
   "outputs": [],
   "source": [
    "# Read all the records we just wrote from WaterMeterMonthlyRollUp\n",
    "start_date = datetime(2016, 1, 1, 0, 00)\n",
    "end_date = datetime(2017, 2, 1, 0, 00)\n",
    "\n",
    "query = \"\"\"\\\n",
    "    SELECT *\n",
    "    FROM WaterMeterMonthlyRollUp\n",
    "    WHERE reading_date >= {} AND reading_date < {}\n",
    "\"\"\".format( convert_to_epoch( start_date ), convert_to_epoch( end_date ) )\n",
    "\n",
    "print query\n",
    "\n",
    "data_set = client.ts_query(write_table, query)\n",
    "for row in data_set.rows:\n",
    "    print(row)"
   ]
  },
  {
   "cell_type": "code",
   "execution_count": null,
   "metadata": {
    "collapsed": true
   },
   "outputs": [],
   "source": []
  }
 ],
 "metadata": {
  "kernelspec": {
   "display_name": "Python 2",
   "language": "python",
   "name": "python2"
  },
  "language_info": {
   "codemirror_mode": {
    "name": "ipython",
    "version": 2
   },
   "file_extension": ".py",
   "mimetype": "text/x-python",
   "name": "python",
   "nbconvert_exporter": "python",
   "pygments_lexer": "ipython2",
   "version": "2.7.11"
  }
 },
 "nbformat": 4,
 "nbformat_minor": 0
}
